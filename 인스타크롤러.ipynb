{
 "cells": [
  {
   "cell_type": "code",
   "execution_count": null,
   "metadata": {},
   "outputs": [],
   "source": [
    "from selenium import webdriver\n",
    "from selenium.webdriver.common.keys import Keys\n",
    "import time\n",
    "from bs4 import BeautifulSoup\n",
    "from selenium.webdriver.chrome.options import Options\n",
    "import csv\n",
    "import pandas as pd\n",
    "import urllib\n",
    "import ssl\n",
    "import random\n",
    "\n",
    "\n",
    "search = input('검색어 : ')\n",
    "search1 = urllib.parse.quote(search)\n",
    "url = 'https://www.instagram.com/explore/tags/'+str(search1)+'/'\n",
    "\n",
    "driver = webdriver.Chrome('C:/3pm/pythonwork/analysis/chromedriver/chromedriver') # 크롬드라이버 위치 수정\n",
    "driver.implicitly_wait(1)\n",
    "driver.get(url)\n",
    "time.sleep(20)\n",
    "\n",
    "driver.get(url)\n",
    "time.sleep(5)\n",
    "driver.find_element_by_class_name('eLAPa').click()\n",
    "\n",
    "time.sleep(2)\n",
    "\n",
    "with open(search+'인스타.csv', 'a', newline='', encoding='utf-8') as out:\n",
    "    writer = csv.writer(out)\n",
    "    replylist = []\n",
    "    for temp in range(0,29):\n",
    "        html = driver.page_source\n",
    "        soup = BeautifulSoup(html, 'lxml')\n",
    "        #result = soup.find_all('a', {'class': 'xil3i'})  #해시태그가 있는 클래스\n",
    "        rdata = soup.find_all('div', {'class': 'C4VMK'})  #댓글이 있는 클래스\n",
    "\n",
    "        if len(rdata) > 0:  #댓글이 있으면\n",
    "            hstr = ''   #게시글 하나의 댓글을 하나의 문장으로 저장한다.\n",
    "            rresult = []\n",
    "            for temp1 in rdata:\n",
    "                temp1 = temp1.find_all('span')[1]\n",
    "                print(temp1)\n",
    "                hstr = hstr + ' ' + temp1.text\n",
    "            replylist.append(hstr)\n",
    "            rresult.append(hstr)\n",
    "\n",
    "            datelist = list()\n",
    "            time_raw = driver.find_element_by_css_selector('body > div._2dDPU.CkGkG > div.zZYga > div > article > div.eo2As > div.k_Q0X.I0_K8.NnvRN > a > time')\n",
    "            time_info = pd.to_datetime(time_raw.get_attribute('datetime')).normalize()\n",
    "            datelist.append(time_info)\n",
    "            print(datelist)\n",
    "\n",
    "            writer.writerow(datelist + rresult)\n",
    "        driver.find_element_by_link_text('다음').click()  #다음 클릭\n",
    "        time.sleep(2) #로딩이 느리면 시간을 좀 늘려주기 #봇으로 인식하는걸 막기 위해 랜덤으로 넣어줌\n",
    "            #random.randint(3,10)\n",
    "\n",
    "print(search1)\n",
    "print(replylist)\n",
    "print(datelist)"
   ]
  },
  {
   "cell_type": "code",
   "execution_count": null,
   "metadata": {},
   "outputs": [],
   "source": [
    "data = pd.read_csv(\"갤럭시인스타댓글.csv\", header = None)"
   ]
  },
  {
   "cell_type": "code",
   "execution_count": null,
   "metadata": {},
   "outputs": [],
   "source": [
    "def get_tags(text, ntags=200):\n",
    "    spliter = Okt()\n",
    "    nouns = spliter.nouns(text)\n",
    "    count = Counter(nouns)\n",
    "    return_list = []\n",
    "    for n, c in count.most_common(ntags):  #count로 단어의 갯수를 파악한걸 정렬해서 ntags갯수만큼 리스트로 가져온다.\n",
    "        temp = {'tag': n, 'count': c}\n",
    "        return_list.append(temp)\n",
    "    # return return_list\n",
    "    return dict(count.most_common(ntags))       #[(커피, 1200),(카페, 800)] -> {커피:1200, 카페:800}\n",
    "\n",
    "def clean_str(s):\n",
    "    hangul = re.compile('[^ ㄱ-ㅣ가-힣]+')    #한글만 남겨놓고 나머지 삭제\n",
    "    s = hangul.sub(r'',str(s))\n",
    "\n",
    "    cp = re.compile(\"[\"u\"\\U00010000-\\U0010FFFF\"\"]+\", flags=re.UNICODE)  #BMP characters 이외 이모티콘삭제\n",
    "    s=cp.sub(r'',s)\n",
    "\n",
    "    s = re.sub('[-=+,#/\\?:^$.@*\\\"※~&%ㆍ!』\\\\‘|\\(\\)\\[\\]\\<\\>`\\'…》]', '', s) #특수기호 삭제\n",
    " \n",
    "    return s.strip()"
   ]
  },
  {
   "cell_type": "code",
   "execution_count": null,
   "metadata": {},
   "outputs": [],
   "source": [
    "clean_data = clean_str(data[1])"
   ]
  }
 ],
 "metadata": {
  "kernelspec": {
   "display_name": "Python 3",
   "language": "python",
   "name": "python3"
  },
  "language_info": {
   "codemirror_mode": {
    "name": "ipython",
    "version": 3
   },
   "file_extension": ".py",
   "mimetype": "text/x-python",
   "name": "python",
   "nbconvert_exporter": "python",
   "pygments_lexer": "ipython3",
   "version": "3.8.5"
  },
  "toc": {
   "base_numbering": 1,
   "nav_menu": {},
   "number_sections": true,
   "sideBar": true,
   "skip_h1_title": false,
   "title_cell": "Table of Contents",
   "title_sidebar": "Contents",
   "toc_cell": false,
   "toc_position": {},
   "toc_section_display": true,
   "toc_window_display": false
  }
 },
 "nbformat": 4,
 "nbformat_minor": 4
}
